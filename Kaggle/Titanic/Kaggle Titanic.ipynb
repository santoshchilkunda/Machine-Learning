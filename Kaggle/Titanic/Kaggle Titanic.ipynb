{
 "cells": [
  {
   "cell_type": "code",
   "execution_count": 1,
   "metadata": {
    "collapsed": true
   },
   "outputs": [],
   "source": [
    "import pandas as pd\n",
    "import numpy as np\n",
    "from __future__ import division\n",
    "import csv as csv"
   ]
  },
  {
   "cell_type": "code",
   "execution_count": 2,
   "metadata": {
    "collapsed": false
   },
   "outputs": [
    {
     "name": "stdout",
     "output_type": "stream",
     "text": [
      "<class 'pandas.core.frame.DataFrame'>\n",
      "RangeIndex: 891 entries, 0 to 890\n",
      "Data columns (total 10 columns):\n",
      "PassengerId    891 non-null int64\n",
      "Survived       891 non-null int64\n",
      "Pclass         891 non-null int64\n",
      "SibSp          891 non-null int64\n",
      "Parch          891 non-null int64\n",
      "Fare           891 non-null float64\n",
      "Gender         891 non-null int64\n",
      "Agefill        891 non-null float64\n",
      "FamilySize     891 non-null int64\n",
      "AgCl           891 non-null float64\n",
      "dtypes: float64(3), int64(7)\n",
      "memory usage: 69.7 KB\n",
      "None\n"
     ]
    }
   ],
   "source": [
    "train = pd.read_csv('train.csv', header=0)\n",
    "\n",
    "train['Pclass'].fillna(train['Pclass'].median(), inplace=True)\n",
    "\n",
    "train['Fare'].fillna(train['Fare'].mean(), inplace=True)\n",
    "\n",
    "train['Gender'] = train['Sex'].map( {'female':0, 'male':1} ).astype(int)\n",
    "train['Gender'].fillna(train['Gender'].median(), inplace=True)\n",
    "\n",
    "train['Agefill'] = train['Age']\n",
    "for i in range(0,2):\n",
    "    for j in range(0,3):\n",
    "        median_age = train[(train['Gender'] == i) & (train['Pclass'] == (j+1))]['Age'].dropna().median()\n",
    "        train.loc[ train.Age.isnull() & (train['Gender'] == i) & (train['Pclass'] == (j+1)) , 'Agefill'] = median_age \n",
    "\n",
    "train['FamilySize'] = train['SibSp'] + train['Parch']\n",
    "train['FamilySize'].fillna(train['FamilySize'].mean(), inplace=True)\n",
    "\n",
    "train['AgCl'] = train['Agefill'] * train['Pclass']\n",
    "train['AgCl'].fillna(train['AgCl'].mean(), inplace=True)\n",
    "\n",
    "train.dtypes[train.dtypes.map(lambda x: x=='object')]\n",
    "\n",
    "train = train.drop(['Name', 'Sex', 'Ticket', 'Cabin', 'Embarked', 'Age'], axis=1)\n",
    "print train.info()\n",
    "train = train.values\n",
    "\n",
    "X = np.transpose(np.array([train[:,2], train[:,5], train[:,6], train[:,7],  train[:,8], train[:,9]]))\n",
    "#X = np.transpose(np.array([train[:,2], train[:,6]]))\n",
    "y = train[:,1]"
   ]
  },
  {
   "cell_type": "code",
   "execution_count": 3,
   "metadata": {
    "collapsed": false
   },
   "outputs": [],
   "source": [
    "X = X - np.mean(X, axis=0)\n",
    "X = X / (np.max(X, axis=0) - np.min(X, axis=0))"
   ]
  },
  {
   "cell_type": "code",
   "execution_count": 4,
   "metadata": {
    "collapsed": false
   },
   "outputs": [
    {
     "name": "stdout",
     "output_type": "stream",
     "text": [
      "(35640, 6)\n",
      "(8910, 6)\n",
      "(35640,)\n",
      "(8910,)\n"
     ]
    }
   ],
   "source": [
    "from sklearn.cross_validation import train_test_split\n",
    "\n",
    "X = np.repeat(X, 50, axis=0)\n",
    "y = np.repeat(y, 50, axis=0)\n",
    "X_train, X_val, y_train, y_val = train_test_split(X, y, test_size=0.2)\n",
    "\n",
    "print X_train.shape\n",
    "print X_val.shape\n",
    "print y_train.shape\n",
    "print y_val.shape"
   ]
  },
  {
   "cell_type": "code",
   "execution_count": null,
   "metadata": {
    "collapsed": false,
    "scrolled": true
   },
   "outputs": [],
   "source": [
    "from sklearn import linear_model\n",
    "\n",
    "model = linear_model.LogisticRegression()\n",
    "model.fit(X_train, y_train)\n",
    "\n",
    "print model.score(X_train, y_train)\n",
    "print model.score(X_val, y_val)"
   ]
  },
  {
   "cell_type": "code",
   "execution_count": null,
   "metadata": {
    "collapsed": false
   },
   "outputs": [],
   "source": [
    "from sklearn.metrics import precision_score, recall_score\n",
    "\n",
    "pred_prob = model.predict_proba(X_val)[:,1]\n",
    "pred_val = np.array((pred_prob > 0.5), dtype=int)\n",
    "\n",
    "print precision_score(y_val, pred_val)\n",
    "print recall_score(y_val, pred_val)"
   ]
  },
  {
   "cell_type": "code",
   "execution_count": null,
   "metadata": {
    "collapsed": false
   },
   "outputs": [],
   "source": [
    "model.coef_"
   ]
  },
  {
   "cell_type": "code",
   "execution_count": 5,
   "metadata": {
    "collapsed": false
   },
   "outputs": [],
   "source": [
    "test = pd.read_csv('test.csv', header=0)\n",
    "\n",
    "test['Pclass'].fillna(test['Pclass'].median(), inplace=True)\n",
    "\n",
    "test['Fare'].fillna(test['Fare'].mean(), inplace=True)\n",
    "\n",
    "test['Gender'] = test['Sex'].map( {'female':0, 'male':1} ).astype(int)\n",
    "test['Gender'].fillna(test['Gender'].median(), inplace=True)\n",
    "\n",
    "test['Agefill'] = test['Age']\n",
    "for i in range(0,2):\n",
    "    for j in range(0,3):\n",
    "        median_age = test[(test['Gender'] == i) & (test['Pclass'] == (j+1))]['Age'].dropna().median()\n",
    "        test.loc[ test.Age.isnull() & (test['Gender'] == i) & (test['Pclass'] == (j+1)) , 'Agefill'] = median_age\n",
    "\n",
    "test['FamilySize'] = test['SibSp'] + test['Parch']\n",
    "test['FamilySize'].fillna(test['FamilySize'].mean(), inplace=True)\n",
    "\n",
    "test['AgCl'] = test['Agefill'] * test['Pclass']\n",
    "test['AgCl'].fillna(test['AgCl'].mean(), inplace=True)\n",
    "\n",
    "test.dtypes[test.dtypes.map(lambda x: x=='object')]\n",
    "\n",
    "test = test.drop(['Name', 'Sex', 'Ticket', 'Cabin', 'Embarked', 'Age'], axis=1)\n",
    "test = test.values\n",
    "\n",
    "X_test = np.transpose(np.array([test[:,1], test[:,4], test[:,5], test[:,6],  test[:,7], test[:,8]]))"
   ]
  },
  {
   "cell_type": "code",
   "execution_count": null,
   "metadata": {
    "collapsed": true
   },
   "outputs": [],
   "source": [
    "pred_test_prob = model.predict_proba(X_test)[:,1]\n",
    "pred_test = np.array((pred_test_prob > 0.5), dtype=int)"
   ]
  },
  {
   "cell_type": "code",
   "execution_count": null,
   "metadata": {
    "collapsed": false
   },
   "outputs": [],
   "source": [
    "prediction_file = open(\"schil_log_reg.csv\", \"wb\")\n",
    "prediction_file_object = csv.writer(prediction_file)\n",
    "prediction_file_object.writerow([\"PassengerId\", \"Survived\"])\n",
    "\n",
    "test_file = open('test.csv', 'rb')\n",
    "test_file_object = csv.reader(test_file)\n",
    "header = test_file_object.next()\n",
    "\n",
    "i=0\n",
    "\n",
    "for row in test_file_object:\n",
    "    prediction_file_object.writerow([row[0], pred_test[i]])\n",
    "    i = (i+1)\n",
    "    \n",
    "prediction_file.close()"
   ]
  },
  {
   "cell_type": "markdown",
   "metadata": {},
   "source": [
    "# Implement logistic regression with L2 regularization from scratch "
   ]
  },
  {
   "cell_type": "code",
   "execution_count": 6,
   "metadata": {
    "collapsed": true
   },
   "outputs": [],
   "source": [
    "def predict_prob(data, weights):\n",
    "    scores = np.dot(data, weights)\n",
    "    sigmoid = 1 / (1+np.exp(-scores))\n",
    "    return sigmoid"
   ]
  },
  {
   "cell_type": "code",
   "execution_count": 7,
   "metadata": {
    "collapsed": true
   },
   "outputs": [],
   "source": [
    "def predict_output(data, weights, th):\n",
    "    pred_prob = predict_prob(data, weights)\n",
    "    pred = np.array(pred_prob > th, dtype=int)\n",
    "    return pred"
   ]
  },
  {
   "cell_type": "code",
   "execution_count": 8,
   "metadata": {
    "collapsed": true
   },
   "outputs": [],
   "source": [
    "def feature_derivate_with_L2(feature, error, weight, l2_penalty, is_bias=0):\n",
    "    derivative = np.dot(feature, error)\n",
    "    if not is_bias:\n",
    "        derivative -= 2*l2_penalty*weight\n",
    "    return derivative"
   ]
  },
  {
   "cell_type": "code",
   "execution_count": 9,
   "metadata": {
    "collapsed": false
   },
   "outputs": [],
   "source": [
    "def compute_log_likelihood_with_L2(data, weights, target, l2_penalty):\n",
    "    #indicator = (target == +1)\n",
    "    indicator = target\n",
    "    scores = np.dot(data, weights)\n",
    "    ll = np.sum((indicator-1)*scores - np.log(1+np.exp(scores))) - l2_penalty*np.dot(weights[1:], np.transpose(weights[1:]))\n",
    "    return ll"
   ]
  },
  {
   "cell_type": "code",
   "execution_count": 10,
   "metadata": {
    "collapsed": false
   },
   "outputs": [],
   "source": [
    "def logistic_regression_with_L2(data, target, initial_weights, step_size, l2_penalty=0, max_itr=10):\n",
    "    weights = np.array(initial_weights)\n",
    "    \n",
    "    #indicator = target == +1\n",
    "    indicator = target\n",
    "    \n",
    "    for i in xrange(max_itr):\n",
    "        predictions = predict_prob(data, weights)\n",
    "        error = (indicator - predictions)\n",
    "        \n",
    "        for j in xrange(len(weights)):\n",
    "            partial_derivative = feature_derivate_with_L2(data[:,j], error, weights[j], l2_penalty, (j==0))\n",
    "            weights[j] += step_size*partial_derivative\n",
    "        \n",
    "        ll = compute_log_likelihood_with_L2(data, weights, target, l2_penalty)\n",
    "    \n",
    "    print \"ll:\", np.round(ll,3)\n",
    "    \n",
    "    return weights"
   ]
  },
  {
   "cell_type": "code",
   "execution_count": 11,
   "metadata": {
    "collapsed": true
   },
   "outputs": [],
   "source": [
    "def logistic_regression_score(data, weights, target, th=0.5):\n",
    "    pred = predict_output(data, weights, th)\n",
    "    return (np.sum(pred == target) / len(target))"
   ]
  },
  {
   "cell_type": "code",
   "execution_count": 12,
   "metadata": {
    "collapsed": false
   },
   "outputs": [
    {
     "name": "stdout",
     "output_type": "stream",
     "text": [
      "ll: 8189.159\n",
      "0.8044332211\n",
      "0.800224466891\n",
      "\n",
      "ll: 8115.29\n",
      "0.8044332211\n",
      "0.800224466891\n",
      "\n",
      "ll: 8044.326\n",
      "0.805555555556\n",
      "0.801346801347\n",
      "\n",
      "ll: 7976.012\n",
      "0.805555555556\n",
      "0.801346801347\n",
      "\n",
      "ll: 7910.12\n",
      "0.805555555556\n",
      "0.801346801347\n",
      "\n",
      "ll: 7846.45\n",
      "0.806593714927\n",
      "0.802805836139\n",
      "\n",
      "ll: 7784.825\n",
      "0.804208754209\n",
      "0.801122334456\n",
      "\n",
      "ll: 7725.088\n",
      "0.805359147026\n",
      "0.802132435466\n",
      "\n"
     ]
    }
   ],
   "source": [
    "X_train2 = np.insert(X_train, 0, 1, axis=1)\n",
    "X_val2 = np.insert(X_val, 0, 1, axis=1)\n",
    "\n",
    "initial_weights = np.array([0]*X_train2.shape[1], dtype=float)\n",
    "step_size = 1e-5\n",
    "max_itr = 5000\n",
    "l2_penalty_list = [0,1,2,3,4,5,6,7]\n",
    "\n",
    "for l2_penalty in l2_penalty_list:\n",
    "    weights = logistic_regression_with_L2(X_train2, y_train, initial_weights, step_size, l2_penalty, max_itr)\n",
    "    print logistic_regression_score(X_train2, weights, y_train)\n",
    "    print logistic_regression_score(X_val2, weights, y_val)\n",
    "    print \"\""
   ]
  },
  {
   "cell_type": "code",
   "execution_count": 13,
   "metadata": {
    "collapsed": false
   },
   "outputs": [
    {
     "name": "stdout",
     "output_type": "stream",
     "text": [
      "ll: 7846.45\n",
      "0.806593714927\n",
      "0.802805836139\n"
     ]
    }
   ],
   "source": [
    "X_train2 = np.insert(X_train, 0, 1, axis=1)\n",
    "X_val2 = np.insert(X_val, 0, 1, axis=1)\n",
    "\n",
    "initial_weights = np.array([0]*X_train2.shape[1], dtype=float)\n",
    "step_size = 1e-5\n",
    "max_itr = 5000\n",
    "l2_penalty = 5\n",
    "\n",
    "weights = logistic_regression_with_L2(X_train2, y_train, initial_weights, step_size, l2_penalty, max_itr)\n",
    "print logistic_regression_score(X_train2, weights, y_train)\n",
    "print logistic_regression_score(X_val2, weights, y_val)"
   ]
  },
  {
   "cell_type": "code",
   "execution_count": 14,
   "metadata": {
    "collapsed": false
   },
   "outputs": [],
   "source": [
    "X_test2 = np.insert(X_test, 0, 1, axis=1)\n",
    "y_test_pred = predict_output(X_test2, weights, 0.5)"
   ]
  },
  {
   "cell_type": "code",
   "execution_count": 15,
   "metadata": {
    "collapsed": true
   },
   "outputs": [],
   "source": [
    "prediction_file = open(\"schil_log_reg_self.csv\", \"wb\")\n",
    "prediction_file_object = csv.writer(prediction_file)\n",
    "prediction_file_object.writerow([\"PassengerId\", \"Survived\"])\n",
    "\n",
    "test_file = open('test.csv', 'rb')\n",
    "test_file_object = csv.reader(test_file)\n",
    "header = test_file_object.next()\n",
    "\n",
    "i=0\n",
    "\n",
    "for row in test_file_object:\n",
    "    prediction_file_object.writerow([row[0], y_test_pred[i]])\n",
    "    i = (i+1)\n",
    "    \n",
    "prediction_file.close()"
   ]
  },
  {
   "cell_type": "code",
   "execution_count": null,
   "metadata": {
    "collapsed": true
   },
   "outputs": [],
   "source": []
  }
 ],
 "metadata": {
  "kernelspec": {
   "display_name": "Python 2",
   "language": "python",
   "name": "python2"
  },
  "language_info": {
   "codemirror_mode": {
    "name": "ipython",
    "version": 2
   },
   "file_extension": ".py",
   "mimetype": "text/x-python",
   "name": "python",
   "nbconvert_exporter": "python",
   "pygments_lexer": "ipython2",
   "version": "2.7.11"
  }
 },
 "nbformat": 4,
 "nbformat_minor": 0
}
