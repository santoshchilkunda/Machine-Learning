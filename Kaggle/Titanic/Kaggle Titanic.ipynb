{
 "cells": [
  {
   "cell_type": "code",
   "execution_count": 1,
   "metadata": {
    "collapsed": true
   },
   "outputs": [],
   "source": [
    "import pandas as pd\n",
    "import numpy as np\n",
    "from __future__ import division\n",
    "import csv as csv"
   ]
  },
  {
   "cell_type": "code",
   "execution_count": 2,
   "metadata": {
    "collapsed": false
   },
   "outputs": [
    {
     "name": "stdout",
     "output_type": "stream",
     "text": [
      "<class 'pandas.core.frame.DataFrame'>\n",
      "RangeIndex: 891 entries, 0 to 890\n",
      "Data columns (total 10 columns):\n",
      "PassengerId    891 non-null int64\n",
      "Survived       891 non-null int64\n",
      "Pclass         891 non-null int64\n",
      "SibSp          891 non-null int64\n",
      "Parch          891 non-null int64\n",
      "Fare           891 non-null float64\n",
      "Gender         891 non-null int64\n",
      "Agefill        891 non-null float64\n",
      "FamilySize     891 non-null int64\n",
      "AgCl           891 non-null float64\n",
      "dtypes: float64(3), int64(7)\n",
      "memory usage: 69.7 KB\n",
      "None\n"
     ]
    }
   ],
   "source": [
    "train = pd.read_csv('train.csv', header=0)\n",
    "\n",
    "train['Pclass'].fillna(train['Pclass'].median(), inplace=True)\n",
    "\n",
    "train['Fare'].fillna(train['Fare'].mean(), inplace=True)\n",
    "\n",
    "train['Gender'] = train['Sex'].map( {'female':0, 'male':1} ).astype(int)\n",
    "train['Gender'].fillna(train['Gender'].median(), inplace=True)\n",
    "\n",
    "train['Agefill'] = train['Age']\n",
    "for i in range(0,2):\n",
    "    for j in range(0,3):\n",
    "        median_age = train[(train['Gender'] == i) & (train['Pclass'] == (j+1))]['Age'].dropna().median()\n",
    "        train.loc[ train.Age.isnull() & (train['Gender'] == i) & (train['Pclass'] == (j+1)) , 'Agefill'] = median_age \n",
    "\n",
    "train['FamilySize'] = train['SibSp'] + train['Parch']\n",
    "train['FamilySize'].fillna(train['FamilySize'].mean(), inplace=True)\n",
    "\n",
    "train['AgCl'] = train['Agefill'] * train['Pclass']\n",
    "train['AgCl'].fillna(train['AgCl'].mean(), inplace=True)\n",
    "\n",
    "train.dtypes[train.dtypes.map(lambda x: x=='object')]\n",
    "\n",
    "train = train.drop(['Name', 'Sex', 'Ticket', 'Cabin', 'Embarked', 'Age'], axis=1)\n",
    "print train.info()\n",
    "train = train.values\n",
    "\n",
    "X = np.transpose(np.array([train[:,2], train[:,5], train[:,6], train[:,7],  train[:,8], train[:,9]]))\n",
    "#X = np.transpose(np.array([train[:,2], train[:,6]]))\n",
    "y = train[:,1]"
   ]
  },
  {
   "cell_type": "code",
   "execution_count": 3,
   "metadata": {
    "collapsed": false
   },
   "outputs": [],
   "source": [
    "X = X - np.mean(X, axis=0)\n",
    "X = X / (np.max(X, axis=0) - np.min(X, axis=0))"
   ]
  },
  {
   "cell_type": "code",
   "execution_count": 4,
   "metadata": {
    "collapsed": false
   },
   "outputs": [
    {
     "name": "stdout",
     "output_type": "stream",
     "text": [
      "(10692000, 6)\n",
      "(2673000, 6)\n",
      "(10692000,)\n",
      "(2673000,)\n"
     ]
    }
   ],
   "source": [
    "from sklearn.cross_validation import train_test_split\n",
    "\n",
    "X = np.repeat(X, 15000, axis=0)\n",
    "y = np.repeat(y, 15000, axis=0)\n",
    "X_train, X_val, y_train, y_val = train_test_split(X, y, test_size=0.2)\n",
    "\n",
    "print X_train.shape\n",
    "print X_val.shape\n",
    "print y_train.shape\n",
    "print y_val.shape"
   ]
  },
  {
   "cell_type": "code",
   "execution_count": 5,
   "metadata": {
    "collapsed": false,
    "scrolled": true
   },
   "outputs": [
    {
     "name": "stdout",
     "output_type": "stream",
     "text": [
      "0.80588795361\n",
      "0.805628881407\n"
     ]
    }
   ],
   "source": [
    "from sklearn import linear_model\n",
    "\n",
    "model = linear_model.LogisticRegression()\n",
    "model.fit(X_train, y_train)\n",
    "\n",
    "print model.score(X_train, y_train)\n",
    "print model.score(X_val, y_val)"
   ]
  },
  {
   "cell_type": "code",
   "execution_count": 6,
   "metadata": {
    "collapsed": false
   },
   "outputs": [
    {
     "name": "stdout",
     "output_type": "stream",
     "text": [
      "0.773391046103\n",
      "0.6983485248\n"
     ]
    }
   ],
   "source": [
    "from sklearn.metrics import precision_score, recall_score\n",
    "\n",
    "pred_prob = model.predict_proba(X_val)[:,1]\n",
    "pred_val = np.array((pred_prob > 0.5), dtype=int)\n",
    "\n",
    "print precision_score(y_val, pred_val)\n",
    "print recall_score(y_val, pred_val)"
   ]
  },
  {
   "cell_type": "code",
   "execution_count": 7,
   "metadata": {
    "collapsed": false
   },
   "outputs": [
    {
     "data": {
      "text/plain": [
       "array([[-2.15009384,  1.42824407, -2.74881947, -2.91103777, -2.51938827,\n",
       "        -0.80495369]])"
      ]
     },
     "execution_count": 7,
     "metadata": {},
     "output_type": "execute_result"
    }
   ],
   "source": [
    "model.coef_"
   ]
  },
  {
   "cell_type": "code",
   "execution_count": 8,
   "metadata": {
    "collapsed": false
   },
   "outputs": [],
   "source": [
    "test = pd.read_csv('test.csv', header=0)\n",
    "\n",
    "test['Pclass'].fillna(test['Pclass'].median(), inplace=True)\n",
    "\n",
    "test['Fare'].fillna(test['Fare'].mean(), inplace=True)\n",
    "\n",
    "test['Gender'] = test['Sex'].map( {'female':0, 'male':1} ).astype(int)\n",
    "test['Gender'].fillna(test['Gender'].median(), inplace=True)\n",
    "\n",
    "test['Agefill'] = test['Age']\n",
    "for i in range(0,2):\n",
    "    for j in range(0,3):\n",
    "        median_age = test[(test['Gender'] == i) & (test['Pclass'] == (j+1))]['Age'].dropna().median()\n",
    "        test.loc[ test.Age.isnull() & (test['Gender'] == i) & (test['Pclass'] == (j+1)) , 'Agefill'] = median_age\n",
    "\n",
    "test['FamilySize'] = test['SibSp'] + test['Parch']\n",
    "test['FamilySize'].fillna(test['FamilySize'].mean(), inplace=True)\n",
    "\n",
    "test['AgCl'] = test['Agefill'] * test['Pclass']\n",
    "test['AgCl'].fillna(test['AgCl'].mean(), inplace=True)\n",
    "\n",
    "test.dtypes[test.dtypes.map(lambda x: x=='object')]\n",
    "\n",
    "test = test.drop(['Name', 'Sex', 'Ticket', 'Cabin', 'Embarked', 'Age'], axis=1)\n",
    "test = test.values\n",
    "\n",
    "X_test = np.transpose(np.array([test[:,1], test[:,4], test[:,5], test[:,6],  test[:,7], test[:,8]]))\n",
    "pred_test_prob = model.predict_proba(X_test)[:,1]\n",
    "pred_test = np.array((pred_test_prob > 0.5), dtype=int)"
   ]
  },
  {
   "cell_type": "code",
   "execution_count": 9,
   "metadata": {
    "collapsed": false
   },
   "outputs": [],
   "source": [
    "prediction_file = open(\"schil_log_reg.csv\", \"wb\")\n",
    "prediction_file_object = csv.writer(prediction_file)\n",
    "prediction_file_object.writerow([\"PassengerId\", \"Survived\"])\n",
    "\n",
    "test_file = open('test.csv', 'rb')\n",
    "test_file_object = csv.reader(test_file)\n",
    "header = test_file_object.next()\n",
    "\n",
    "i=0\n",
    "\n",
    "for row in test_file_object:\n",
    "    prediction_file_object.writerow([row[0], pred_test[i]])\n",
    "    i = (i+1)\n",
    "    \n",
    "prediction_file.close()"
   ]
  },
  {
   "cell_type": "code",
   "execution_count": null,
   "metadata": {
    "collapsed": true
   },
   "outputs": [],
   "source": []
  }
 ],
 "metadata": {
  "kernelspec": {
   "display_name": "Python 2",
   "language": "python",
   "name": "python2"
  },
  "language_info": {
   "codemirror_mode": {
    "name": "ipython",
    "version": 2
   },
   "file_extension": ".py",
   "mimetype": "text/x-python",
   "name": "python",
   "nbconvert_exporter": "python",
   "pygments_lexer": "ipython2",
   "version": "2.7.11"
  }
 },
 "nbformat": 4,
 "nbformat_minor": 0
}
