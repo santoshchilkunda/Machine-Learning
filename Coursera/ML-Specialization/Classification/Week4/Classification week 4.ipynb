{
 "cells": [
  {
   "cell_type": "markdown",
   "metadata": {},
   "source": [
    "# Decision Trees in Practice"
   ]
  },
  {
   "cell_type": "markdown",
   "metadata": {},
   "source": [
    "In this assignment we will explore various techniques for preventing overfitting in decision trees. We will extend the implementation of the binary decision trees that we implemented in the previous assignment. You will have to use your solutions from this previous assignment and extend them.\n",
    "\n",
    "In this assignment you will:\n",
    "\n",
    "- Implement binary decision trees with different early stopping methods.\n",
    "- Compare models with different stopping parameters.\n",
    "- Visualize the concept of overfitting in decision trees."
   ]
  },
  {
   "cell_type": "code",
   "execution_count": 2,
   "metadata": {
    "collapsed": true
   },
   "outputs": [],
   "source": [
    "import graphlab\n",
    "import pandas as pd\n",
    "import numpy as np\n",
    "from __future__ import division"
   ]
  },
  {
   "cell_type": "code",
   "execution_count": 3,
   "metadata": {
    "collapsed": false
   },
   "outputs": [
    {
     "name": "stderr",
     "output_type": "stream",
     "text": [
      "[INFO] graphlab.cython.cy_server: GraphLab Create v2.1 started. Logging: C:\\Users\\Santosh\\AppData\\Local\\Temp\\graphlab_server_1482637946.log.0\n"
     ]
    },
    {
     "name": "stdout",
     "output_type": "stream",
     "text": [
      "This non-commercial license of GraphLab Create for academic use is assigned to santosh.chilkunda@gmail.com and will expire on July 20, 2017.\n"
     ]
    }
   ],
   "source": [
    "loans = graphlab.SFrame('lending-club-data.gl/')"
   ]
  },
  {
   "cell_type": "code",
   "execution_count": 4,
   "metadata": {
    "collapsed": false
   },
   "outputs": [],
   "source": [
    "loans['safe_loans'] = loans['bad_loans'].apply(lambda x: +1 if(x==0) else -1)"
   ]
  },
  {
   "cell_type": "code",
   "execution_count": 5,
   "metadata": {
    "collapsed": true
   },
   "outputs": [],
   "source": [
    "features = ['grade',              # grade of the loan\n",
    "            'term',               # the term of the loan\n",
    "            'home_ownership',     # home_ownership status: own, mortgage or rent\n",
    "            'emp_length',         # number of years of employment\n",
    "           ]\n",
    "target = 'safe_loans'"
   ]
  },
  {
   "cell_type": "code",
   "execution_count": 6,
   "metadata": {
    "collapsed": true
   },
   "outputs": [],
   "source": [
    "loans = loans[features + [target]]"
   ]
  },
  {
   "cell_type": "markdown",
   "metadata": {},
   "source": [
    "Subsample dataset to make sure classes are balanced"
   ]
  },
  {
   "cell_type": "code",
   "execution_count": 7,
   "metadata": {
    "collapsed": false
   },
   "outputs": [
    {
     "name": "stdout",
     "output_type": "stream",
     "text": [
      "num safe loans: 23358\n",
      "num risky loans: 23150\n"
     ]
    }
   ],
   "source": [
    "safe_loans_data = loans[loans['safe_loans'] == +1]\n",
    "risky_loans_data = loans[loans['safe_loans'] == -1]\n",
    "\n",
    "pctage = (len(risky_loans_data) / len(safe_loans_data))\n",
    "safe_loans_data2 = safe_loans_data.sample(pctage, seed=1)\n",
    "\n",
    "print \"num safe loans:\", len(safe_loans_data2)\n",
    "print \"num risky loans:\", len(risky_loans_data)\n",
    "\n",
    "loans_data = risky_loans_data.append(safe_loans_data2)"
   ]
  },
  {
   "cell_type": "markdown",
   "metadata": {},
   "source": [
    "Apply one-hot encoding"
   ]
  },
  {
   "cell_type": "code",
   "execution_count": 8,
   "metadata": {
    "collapsed": false
   },
   "outputs": [],
   "source": [
    "for feature in features:\n",
    "    loans_data_one_hot_encoded = loans_data[feature].apply(lambda x: {x: 1})    \n",
    "    loans_data_unpacked = loans_data_one_hot_encoded.unpack(column_name_prefix=feature)\n",
    "    \n",
    "    # Change None's to 0's\n",
    "    for column in loans_data_unpacked.column_names():\n",
    "        loans_data_unpacked[column] = loans_data_unpacked[column].fillna(0)\n",
    "\n",
    "    loans_data.remove_column(feature)\n",
    "    loans_data.add_columns(loans_data_unpacked)"
   ]
  },
  {
   "cell_type": "code",
   "execution_count": 9,
   "metadata": {
    "collapsed": false
   },
   "outputs": [
    {
     "data": {
      "text/plain": [
       "['grade.A',\n",
       " 'grade.B',\n",
       " 'grade.C',\n",
       " 'grade.D',\n",
       " 'grade.E',\n",
       " 'grade.F',\n",
       " 'grade.G',\n",
       " 'term. 36 months',\n",
       " 'term. 60 months',\n",
       " 'home_ownership.MORTGAGE',\n",
       " 'home_ownership.OTHER',\n",
       " 'home_ownership.OWN',\n",
       " 'home_ownership.RENT',\n",
       " 'emp_length.1 year',\n",
       " 'emp_length.10+ years',\n",
       " 'emp_length.2 years',\n",
       " 'emp_length.3 years',\n",
       " 'emp_length.4 years',\n",
       " 'emp_length.5 years',\n",
       " 'emp_length.6 years',\n",
       " 'emp_length.7 years',\n",
       " 'emp_length.8 years',\n",
       " 'emp_length.9 years',\n",
       " 'emp_length.< 1 year',\n",
       " 'emp_length.n/a']"
      ]
     },
     "execution_count": 9,
     "metadata": {},
     "output_type": "execute_result"
    }
   ],
   "source": [
    "features = loans_data.column_names()\n",
    "features.remove('safe_loans')  # Remove the response variable\n",
    "features"
   ]
  },
  {
   "cell_type": "code",
   "execution_count": 10,
   "metadata": {
    "collapsed": true
   },
   "outputs": [],
   "source": [
    "train_data, validation_data = loans_data.random_split(0.8, seed=1)"
   ]
  },
  {
   "cell_type": "code",
   "execution_count": 11,
   "metadata": {
    "collapsed": false
   },
   "outputs": [],
   "source": [
    "def intermediate_node_num_mistakes(labels_in_node):\n",
    "    if (len(labels_in_node) == 0):\n",
    "        return 0\n",
    "    \n",
    "    num_safe_loans = len(labels_in_node[labels_in_node == +1])\n",
    "    num_bad_loans = len(labels_in_node[labels_in_node == -1])\n",
    "    \n",
    "    if(num_safe_loans > num_bad_loans):\n",
    "        num_mistakes = num_bad_loans\n",
    "    else:\n",
    "        num_mistakes = num_safe_loans\n",
    "    \n",
    "    return num_mistakes"
   ]
  },
  {
   "cell_type": "code",
   "execution_count": 12,
   "metadata": {
    "collapsed": false
   },
   "outputs": [
    {
     "name": "stdout",
     "output_type": "stream",
     "text": [
      "Test passed!\n",
      "Test passed!\n",
      "Test passed!\n"
     ]
    }
   ],
   "source": [
    "# Test case 1\n",
    "example_labels = np.array([-1, -1, 1, 1, 1])\n",
    "if intermediate_node_num_mistakes(example_labels) == 2:\n",
    "    print 'Test passed!'\n",
    "else:\n",
    "    print 'Test 1 failed... try again!'\n",
    "\n",
    "# Test case 2\n",
    "example_labels = np.array([-1, -1, 1, 1, 1, 1, 1])\n",
    "if intermediate_node_num_mistakes(example_labels) == 2:\n",
    "    print 'Test passed!'\n",
    "else:\n",
    "    print 'Test 3 failed... try again!'\n",
    "    \n",
    "# Test case 3\n",
    "example_labels = np.array([-1, -1, -1, -1, -1, 1, 1])\n",
    "if intermediate_node_num_mistakes(example_labels) == 2:\n",
    "    print 'Test passed!'\n",
    "else:\n",
    "    print 'Test 3 failed... try again!'"
   ]
  },
  {
   "cell_type": "code",
   "execution_count": 13,
   "metadata": {
    "collapsed": true
   },
   "outputs": [],
   "source": [
    "def get_best_splitting_feature(data, features, target):\n",
    "    total_num_samples = len(data)\n",
    "    \n",
    "    best_feature = None\n",
    "    lowest_err = 2    \n",
    "    \n",
    "    for feature in features:\n",
    "        left_split = data[data[feature] == 0]\n",
    "        right_split = data[data[feature] == 1]\n",
    "        \n",
    "        left_split_ce = intermediate_node_num_mistakes(left_split[target])\n",
    "        right_split_ce = intermediate_node_num_mistakes(right_split[target])\n",
    "        \n",
    "        ce = (left_split_ce + right_split_ce) / total_num_samples\n",
    "        \n",
    "        if(ce < lowest_err):\n",
    "            best_feature = feature\n",
    "            lowest_err = ce\n",
    "    \n",
    "    return best_feature"
   ]
  },
  {
   "cell_type": "code",
   "execution_count": 14,
   "metadata": {
    "collapsed": false
   },
   "outputs": [
    {
     "name": "stdout",
     "output_type": "stream",
     "text": [
      "Test passed!\n"
     ]
    }
   ],
   "source": [
    "if get_best_splitting_feature(train_data, features, 'safe_loans') == 'term. 36 months':\n",
    "    print 'Test passed!'\n",
    "else:\n",
    "    print 'Test failed... try again!'"
   ]
  },
  {
   "cell_type": "code",
   "execution_count": 15,
   "metadata": {
    "collapsed": true
   },
   "outputs": [],
   "source": [
    "def create_leaf(target_values):    \n",
    "    # Create a leaf node\n",
    "    leaf = {'splitting_feature' : None,\n",
    "            'left' : None,\n",
    "            'right' : None,\n",
    "            'is_leaf': True}   ## YOUR CODE HERE \n",
    "   \n",
    "    # Count the number of data points that are +1 and -1 in this node.\n",
    "    num_ones = len(target_values[target_values == +1])\n",
    "    num_minus_ones = len(target_values[target_values == -1])    \n",
    "\n",
    "    # For the leaf node, set the prediction to be the majority class.\n",
    "    # Store the predicted class (1 or -1) in leaf['prediction']\n",
    "    if num_ones > num_minus_ones:\n",
    "        leaf['prediction'] = +1         ## YOUR CODE HERE\n",
    "    else:\n",
    "        leaf['prediction'] = -1         ## YOUR CODE HERE        \n",
    "\n",
    "    # Return the leaf node\n",
    "    return leaf "
   ]
  },
  {
   "cell_type": "markdown",
   "metadata": {},
   "source": [
    "Early stopping condition 3: Minimum gain in error reduction"
   ]
  },
  {
   "cell_type": "code",
   "execution_count": 16,
   "metadata": {
    "collapsed": true
   },
   "outputs": [],
   "source": [
    "def error_reduction(error_before_split, error_after_split):\n",
    "    # Return the error before the split minus the error after the split.\n",
    "    return (error_before_split - error_after_split)"
   ]
  },
  {
   "cell_type": "code",
   "execution_count": 17,
   "metadata": {
    "collapsed": false
   },
   "outputs": [],
   "source": [
    "def decision_tree_create(data, features, target, current_depth = 0, max_depth = 10, min_node_size = 1, min_error_reduction = -1):\n",
    "    remaining_features = features[:]\n",
    "    \n",
    "    target_values = data[target]\n",
    "    \n",
    "    # Stopping condition 1: All nodes are of the same type.    \n",
    "    if(intermediate_node_num_mistakes(target_values) == 0):\n",
    "        print \"Stopping condition 1 reached. All nodes are of the same type.\"\n",
    "        return (create_leaf(target_values))\n",
    "    \n",
    "    # Stopping condition 2: No more features to split on.\n",
    "    if(remaining_features == None):\n",
    "        print \"Stopping condition 2 reached. No more features to split on.\"\n",
    "        return (create_leaf(target_values))\n",
    "        \n",
    "    # Early stopping condition 1: Reached max depth limit.\n",
    "    if(current_depth >= max_depth):\n",
    "        print \"Early stopping condition 1 reached. Reached max depth limit.\"\n",
    "        return (create_leaf(target_values))\n",
    "        \n",
    "    # Early stopping condition 2: Reached the minimum node size.\n",
    "    if(len(data) <= min_node_size):\n",
    "        print \"Early stopping condition 2 reached. Reached the minimum node size.\"\n",
    "        return (create_leaf(target_values))\n",
    "    \n",
    "    # Find the best splitting feature    \n",
    "    splitting_feature = get_best_splitting_feature(data, features, target)\n",
    "    \n",
    "    left_split = data[data[splitting_feature] == 0]\n",
    "    right_split = data[data[splitting_feature] == 1]\n",
    "    \n",
    "    remaining_features.remove(splitting_feature)\n",
    "    \n",
    "    # Early stopping condition 3: Minimum error reduction\n",
    "    # Calculate the error before splitting (number of misclassified examples \n",
    "    # divided by the total number of examples)\n",
    "    error_before_split = intermediate_node_num_mistakes(target_values) / float(len(data))\n",
    "    \n",
    "    # Calculate the error after splitting (number of misclassified examples \n",
    "    # in both groups divided by the total number of examples)\n",
    "    left_mistakes = intermediate_node_num_mistakes(left_split[target])\n",
    "    right_mistakes = intermediate_node_num_mistakes(right_split[target])\n",
    "    error_after_split = (left_mistakes + right_mistakes) / float(len(data))\n",
    "\n",
    "    # If the error reduction is LESS THAN OR EQUAL TO min_error_reduction, return a leaf.\n",
    "    if (error_reduction(error_before_split, error_after_split) <= min_error_reduction):\n",
    "        print \"Early stopping condition 3 reached. Minimum error reduction.\"\n",
    "        return (create_leaf(target_values))\n",
    "    \n",
    "    print \"Split on feature %s. (%s, %s)\" % (\\\n",
    "                      splitting_feature, len(left_split), len(right_split))\n",
    "    \n",
    "    # Create a leaf node if the split is \"perfect\"\n",
    "    if len(left_split) == len(data):\n",
    "        print \"Creating leaf node.\"\n",
    "        return create_leaf(left_split[target])\n",
    "    if len(right_split) == len(data):\n",
    "        print \"Creating right node.\"    \n",
    "        return create_leaf(right_split[target])\n",
    "    \n",
    "    left_tree = decision_tree_create(left_split, remaining_features, target, current_depth + 1, max_depth, min_node_size, min_error_reduction)\n",
    "    right_tree = decision_tree_create(right_split, remaining_features, target, current_depth + 1, max_depth, min_node_size, min_error_reduction)\n",
    "\n",
    "    return {'is_leaf'          : False, \n",
    "            'prediction'       : None,\n",
    "            'splitting_feature': splitting_feature,\n",
    "            'left'             : left_tree, \n",
    "            'right'            : right_tree}"
   ]
  },
  {
   "cell_type": "markdown",
   "metadata": {},
   "source": [
    "Build a tree!"
   ]
  },
  {
   "cell_type": "code",
   "execution_count": 18,
   "metadata": {
    "collapsed": true
   },
   "outputs": [],
   "source": [
    "max_depth = 6\n",
    "min_node_size = 100,\n",
    "min_error_reduction = 0.0"
   ]
  },
  {
   "cell_type": "code",
   "execution_count": 19,
   "metadata": {
    "collapsed": false
   },
   "outputs": [
    {
     "name": "stdout",
     "output_type": "stream",
     "text": [
      "Split on feature term. 36 months. (9223, 28001)\n",
      "Split on feature grade.A. (9122, 101)\n",
      "Early stopping condition 3 reached. Minimum error reduction.\n",
      "Split on feature emp_length.n/a. (96, 5)\n",
      "Early stopping condition 2 reached. Reached the minimum node size.\n",
      "Early stopping condition 2 reached. Reached the minimum node size.\n",
      "Split on feature grade.D. (23300, 4701)\n",
      "Split on feature grade.E. (22024, 1276)\n",
      "Split on feature grade.F. (21666, 358)\n",
      "Split on feature emp_length.n/a. (20734, 932)\n",
      "Split on feature grade.G. (20638, 96)\n",
      "Early stopping condition 1 reached. Reached max depth limit.\n",
      "Early stopping condition 1 reached. Reached max depth limit.\n",
      "Split on feature grade.A. (702, 230)\n",
      "Early stopping condition 1 reached. Reached max depth limit.\n",
      "Early stopping condition 1 reached. Reached max depth limit.\n",
      "Split on feature emp_length.8 years. (347, 11)\n",
      "Early stopping condition 3 reached. Minimum error reduction.\n",
      "Early stopping condition 2 reached. Reached the minimum node size.\n",
      "Early stopping condition 3 reached. Minimum error reduction.\n",
      "Early stopping condition 3 reached. Minimum error reduction.\n"
     ]
    }
   ],
   "source": [
    "my_decision_tree_new = decision_tree_create(train_data, features, 'safe_loans', max_depth = 6, min_node_size = 100, min_error_reduction=0.0)"
   ]
  },
  {
   "cell_type": "markdown",
   "metadata": {},
   "source": [
    "Let's now train a tree model ignoring early stopping conditions 2 and 3 so that we get the same tree as in the previous assignment. To ignore these conditions, we set min_node_size=0 and min_error_reduction=-1 (a negative value). Call this model my_decision_tree_old."
   ]
  },
  {
   "cell_type": "code",
   "execution_count": 20,
   "metadata": {
    "collapsed": false
   },
   "outputs": [
    {
     "name": "stdout",
     "output_type": "stream",
     "text": [
      "Split on feature term. 36 months. (9223, 28001)\n",
      "Split on feature grade.A. (9122, 101)\n",
      "Split on feature grade.B. (8074, 1048)\n",
      "Split on feature grade.C. (5884, 2190)\n",
      "Split on feature grade.D. (3826, 2058)\n",
      "Split on feature grade.E. (1693, 2133)\n",
      "Early stopping condition 1 reached. Reached max depth limit.\n",
      "Early stopping condition 1 reached. Reached max depth limit.\n",
      "Split on feature grade.E. (2058, 0)\n",
      "Creating leaf node.\n",
      "Split on feature grade.D. (2190, 0)\n",
      "Creating leaf node.\n",
      "Split on feature emp_length.5 years. (969, 79)\n",
      "Split on feature grade.C. (969, 0)\n",
      "Creating leaf node.\n",
      "Split on feature home_ownership.MORTGAGE. (34, 45)\n",
      "Split on feature grade.C. (34, 0)\n",
      "Creating leaf node.\n",
      "Split on feature grade.C. (45, 0)\n",
      "Creating leaf node.\n",
      "Split on feature emp_length.n/a. (96, 5)\n",
      "Split on feature emp_length.< 1 year. (85, 11)\n",
      "Split on feature grade.B. (85, 0)\n",
      "Creating leaf node.\n",
      "Split on feature grade.B. (11, 0)\n",
      "Creating leaf node.\n",
      "Split on feature grade.B. (5, 0)\n",
      "Creating leaf node.\n",
      "Split on feature grade.D. (23300, 4701)\n",
      "Split on feature grade.E. (22024, 1276)\n",
      "Split on feature grade.F. (21666, 358)\n",
      "Split on feature emp_length.n/a. (20734, 932)\n",
      "Split on feature grade.G. (20638, 96)\n",
      "Early stopping condition 1 reached. Reached max depth limit.\n",
      "Early stopping condition 1 reached. Reached max depth limit.\n",
      "Split on feature grade.A. (702, 230)\n",
      "Early stopping condition 1 reached. Reached max depth limit.\n",
      "Early stopping condition 1 reached. Reached max depth limit.\n",
      "Split on feature emp_length.8 years. (347, 11)\n",
      "Split on feature grade.A. (347, 0)\n",
      "Creating leaf node.\n",
      "Split on feature home_ownership.OWN. (9, 2)\n",
      "Early stopping condition 1 reached. Reached max depth limit.\n",
      "Stopping condition 1 reached. All nodes are of the same type.\n",
      "Split on feature grade.A. (1276, 0)\n",
      "Creating leaf node.\n",
      "Split on feature grade.A. (4701, 0)\n",
      "Creating leaf node.\n"
     ]
    }
   ],
   "source": [
    "my_decision_tree_old = decision_tree_create(train_data, features, 'safe_loans', max_depth = 6, min_node_size = 0, min_error_reduction=-1)"
   ]
  },
  {
   "cell_type": "markdown",
   "metadata": {},
   "source": [
    "Making predictions"
   ]
  },
  {
   "cell_type": "code",
   "execution_count": 21,
   "metadata": {
    "collapsed": true
   },
   "outputs": [],
   "source": [
    "def classify(tree, x, annotate = False):\n",
    "    # if the node is a leaf node.\n",
    "    if tree['is_leaf']:\n",
    "        if annotate:\n",
    "             print \"At leaf, predicting %s\" % tree['prediction']\n",
    "        return tree['prediction']\n",
    "    else:        \n",
    "        # split on feature.\n",
    "        split_feature_value = x[tree['splitting_feature']]\n",
    "        if annotate:\n",
    "             print \"Split on %s = %s\" % (tree['splitting_feature'], split_feature_value)\n",
    "        if split_feature_value == 0:\n",
    "            if annotate:\n",
    "                print \"...left split\"\n",
    "            return classify(tree['left'], x, annotate)\n",
    "        else:\n",
    "            if annotate:\n",
    "                print \"...right split\"\n",
    "            return classify(tree['right'], x, annotate)"
   ]
  },
  {
   "cell_type": "code",
   "execution_count": 22,
   "metadata": {
    "collapsed": false
   },
   "outputs": [
    {
     "name": "stdout",
     "output_type": "stream",
     "text": [
      "{'emp_length.3 years': 0L, 'home_ownership.RENT': 1L, 'home_ownership.OWN': 0L, 'emp_length.6 years': 0L, 'emp_length.9 years': 0L, 'emp_length.1 year': 0L, 'home_ownership.OTHER': 0L, 'safe_loans': -1L, 'emp_length.< 1 year': 0L, 'emp_length.10+ years': 0L, 'emp_length.5 years': 0L, 'term. 60 months': 1L, 'home_ownership.MORTGAGE': 0L, 'emp_length.2 years': 1L, 'emp_length.7 years': 0L, 'emp_length.n/a': 0L, 'grade.D': 1L, 'grade.E': 0L, 'grade.F': 0L, 'grade.G': 0L, 'grade.A': 0L, 'grade.B': 0L, 'grade.C': 0L, 'emp_length.4 years': 0L, 'term. 36 months': 0L, 'emp_length.8 years': 0L}\n"
     ]
    }
   ],
   "source": [
    "print validation_data[0]"
   ]
  },
  {
   "cell_type": "code",
   "execution_count": 23,
   "metadata": {
    "collapsed": false
   },
   "outputs": [
    {
     "name": "stdout",
     "output_type": "stream",
     "text": [
      "Predicted class: -1 \n"
     ]
    }
   ],
   "source": [
    "print 'Predicted class: %s ' % classify(my_decision_tree_new, validation_data[0])"
   ]
  },
  {
   "cell_type": "markdown",
   "metadata": {},
   "source": [
    "Let's add some annotations to our prediction to see what the prediction path was that lead to this predicted class:"
   ]
  },
  {
   "cell_type": "code",
   "execution_count": 24,
   "metadata": {
    "collapsed": false
   },
   "outputs": [
    {
     "name": "stdout",
     "output_type": "stream",
     "text": [
      "Split on term. 36 months = 0\n",
      "...left split\n",
      "Split on grade.A = 0\n",
      "...left split\n",
      "At leaf, predicting -1\n"
     ]
    },
    {
     "data": {
      "text/plain": [
       "-1"
      ]
     },
     "execution_count": 24,
     "metadata": {},
     "output_type": "execute_result"
    }
   ],
   "source": [
    "classify(my_decision_tree_new, validation_data[0], annotate=True)"
   ]
  },
  {
   "cell_type": "markdown",
   "metadata": {},
   "source": [
    "Let's now recall the prediction path for the decision tree learned in the previous assignment, which we recreated here as my_decision_tree_old."
   ]
  },
  {
   "cell_type": "code",
   "execution_count": 25,
   "metadata": {
    "collapsed": false
   },
   "outputs": [
    {
     "name": "stdout",
     "output_type": "stream",
     "text": [
      "Split on term. 36 months = 0\n",
      "...left split\n",
      "Split on grade.A = 0\n",
      "...left split\n",
      "Split on grade.B = 0\n",
      "...left split\n",
      "Split on grade.C = 0\n",
      "...left split\n",
      "Split on grade.D = 1\n",
      "...right split\n",
      "At leaf, predicting -1\n"
     ]
    },
    {
     "data": {
      "text/plain": [
       "-1"
      ]
     },
     "execution_count": 25,
     "metadata": {},
     "output_type": "execute_result"
    }
   ],
   "source": [
    "classify(my_decision_tree_old, validation_data[0], annotate=True)"
   ]
  },
  {
   "cell_type": "markdown",
   "metadata": {},
   "source": [
    "Evaluating the model"
   ]
  },
  {
   "cell_type": "code",
   "execution_count": 26,
   "metadata": {
    "collapsed": true
   },
   "outputs": [],
   "source": [
    "def evaluate_classification_error(tree, data, target='safe_loans'):\n",
    "    prediction = data.apply(lambda x: classify(tree, x, False))    \n",
    "    num_err = np.sum(np.array(prediction != data[target]))\n",
    "    total_num_points = len(data)\n",
    "    classification_error = (num_err / total_num_points)\n",
    "    return classification_error"
   ]
  },
  {
   "cell_type": "markdown",
   "metadata": {},
   "source": [
    "# Is the validation error of the new decision tree (using early stopping conditions 2 and 3) lower than, higher than, or the same as that of the old decision tree from the previous assignment?"
   ]
  },
  {
   "cell_type": "markdown",
   "metadata": {},
   "source": [
    "Now, let's use this function to evaluate the classification error of my_decision_tree_new on the validation_set. "
   ]
  },
  {
   "cell_type": "code",
   "execution_count": 27,
   "metadata": {
    "collapsed": false
   },
   "outputs": [
    {
     "data": {
      "text/plain": [
       "0.38367083153813014"
      ]
     },
     "execution_count": 27,
     "metadata": {},
     "output_type": "execute_result"
    }
   ],
   "source": [
    "evaluate_classification_error(my_decision_tree_new, validation_data)"
   ]
  },
  {
   "cell_type": "markdown",
   "metadata": {},
   "source": [
    "Now, evaluate the validation error using my_decision_tree_old."
   ]
  },
  {
   "cell_type": "code",
   "execution_count": 28,
   "metadata": {
    "collapsed": false
   },
   "outputs": [
    {
     "data": {
      "text/plain": [
       "0.38377854373115039"
      ]
     },
     "execution_count": 28,
     "metadata": {},
     "output_type": "execute_result"
    }
   ],
   "source": [
    "evaluate_classification_error(my_decision_tree_old, validation_data)"
   ]
  },
  {
   "cell_type": "markdown",
   "metadata": {},
   "source": [
    "Exploring the effect of max_depth"
   ]
  },
  {
   "cell_type": "markdown",
   "metadata": {},
   "source": [
    "We will compare three models trained with different values of the stopping criterion. We intentionally picked models at the extreme ends (too small, just right, and too large)."
   ]
  },
  {
   "cell_type": "code",
   "execution_count": 29,
   "metadata": {
    "collapsed": true
   },
   "outputs": [],
   "source": [
    "model_1_max_depth = 2\n",
    "model_2_max_depth = 6\n",
    "model_3_max_depth = 14"
   ]
  },
  {
   "cell_type": "code",
   "execution_count": 30,
   "metadata": {
    "collapsed": false
   },
   "outputs": [
    {
     "name": "stdout",
     "output_type": "stream",
     "text": [
      "Split on feature term. 36 months. (9223, 28001)\n",
      "Split on feature grade.A. (9122, 101)\n",
      "Early stopping condition 1 reached. Reached max depth limit.\n",
      "Early stopping condition 1 reached. Reached max depth limit.\n",
      "Split on feature grade.D. (23300, 4701)\n",
      "Early stopping condition 1 reached. Reached max depth limit.\n",
      "Early stopping condition 1 reached. Reached max depth limit.\n",
      "Split on feature term. 36 months. (9223, 28001)\n",
      "Split on feature grade.A. (9122, 101)\n",
      "Split on feature grade.B. (8074, 1048)\n",
      "Split on feature grade.C. (5884, 2190)\n",
      "Split on feature grade.D. (3826, 2058)\n",
      "Split on feature grade.E. (1693, 2133)\n",
      "Early stopping condition 1 reached. Reached max depth limit.\n",
      "Early stopping condition 1 reached. Reached max depth limit.\n",
      "Split on feature grade.E. (2058, 0)\n",
      "Creating leaf node.\n",
      "Split on feature grade.D. (2190, 0)\n",
      "Creating leaf node.\n",
      "Split on feature emp_length.5 years. (969, 79)\n",
      "Split on feature grade.C. (969, 0)\n",
      "Creating leaf node.\n",
      "Split on feature home_ownership.MORTGAGE. (34, 45)\n",
      "Split on feature grade.C. (34, 0)\n",
      "Creating leaf node.\n",
      "Split on feature grade.C. (45, 0)\n",
      "Creating leaf node.\n",
      "Split on feature emp_length.n/a. (96, 5)\n",
      "Split on feature emp_length.< 1 year. (85, 11)\n",
      "Split on feature grade.B. (85, 0)\n",
      "Creating leaf node.\n",
      "Split on feature grade.B. (11, 0)\n",
      "Creating leaf node.\n",
      "Split on feature grade.B. (5, 0)\n",
      "Creating leaf node.\n",
      "Split on feature grade.D. (23300, 4701)\n",
      "Split on feature grade.E. (22024, 1276)\n",
      "Split on feature grade.F. (21666, 358)\n",
      "Split on feature emp_length.n/a. (20734, 932)\n",
      "Split on feature grade.G. (20638, 96)\n",
      "Early stopping condition 1 reached. Reached max depth limit.\n",
      "Early stopping condition 1 reached. Reached max depth limit.\n",
      "Split on feature grade.A. (702, 230)\n",
      "Early stopping condition 1 reached. Reached max depth limit.\n",
      "Early stopping condition 1 reached. Reached max depth limit.\n",
      "Split on feature emp_length.8 years. (347, 11)\n",
      "Split on feature grade.A. (347, 0)\n",
      "Creating leaf node.\n",
      "Split on feature home_ownership.OWN. (9, 2)\n",
      "Early stopping condition 1 reached. Reached max depth limit.\n",
      "Stopping condition 1 reached. All nodes are of the same type.\n",
      "Split on feature grade.A. (1276, 0)\n",
      "Creating leaf node.\n",
      "Split on feature grade.A. (4701, 0)\n",
      "Creating leaf node.\n",
      "Split on feature term. 36 months. (9223, 28001)\n",
      "Split on feature grade.A. (9122, 101)\n",
      "Split on feature grade.B. (8074, 1048)\n",
      "Split on feature grade.C. (5884, 2190)\n",
      "Split on feature grade.D. (3826, 2058)\n",
      "Split on feature grade.E. (1693, 2133)\n",
      "Split on feature home_ownership.OTHER. (1692, 1)\n",
      "Split on feature grade.F. (339, 1353)\n",
      "Split on feature grade.G. (0, 339)\n",
      "Creating right node.\n",
      "Split on feature grade.G. (1353, 0)\n",
      "Creating leaf node.\n",
      "Stopping condition 1 reached. All nodes are of the same type.\n",
      "Split on feature grade.F. (2133, 0)\n",
      "Creating leaf node.\n",
      "Split on feature grade.E. (2058, 0)\n",
      "Creating leaf node.\n",
      "Split on feature grade.D. (2190, 0)\n",
      "Creating leaf node.\n",
      "Split on feature emp_length.5 years. (969, 79)\n",
      "Split on feature grade.C. (969, 0)\n",
      "Creating leaf node.\n",
      "Split on feature home_ownership.MORTGAGE. (34, 45)\n",
      "Split on feature grade.C. (34, 0)\n",
      "Creating leaf node.\n",
      "Split on feature grade.C. (45, 0)\n",
      "Creating leaf node.\n",
      "Split on feature emp_length.n/a. (96, 5)\n",
      "Split on feature emp_length.< 1 year. (85, 11)\n",
      "Split on feature grade.B. (85, 0)\n",
      "Creating leaf node.\n",
      "Split on feature grade.B. (11, 0)\n",
      "Creating leaf node.\n",
      "Split on feature grade.B. (5, 0)\n",
      "Creating leaf node.\n",
      "Split on feature grade.D. (23300, 4701)\n",
      "Split on feature grade.E. (22024, 1276)\n",
      "Split on feature grade.F. (21666, 358)\n",
      "Split on feature emp_length.n/a. (20734, 932)\n",
      "Split on feature grade.G. (20638, 96)\n",
      "Split on feature grade.A. (15839, 4799)\n",
      "Split on feature home_ownership.OTHER. (15811, 28)\n",
      "Split on feature grade.B. (6894, 8917)\n",
      "Split on feature home_ownership.MORTGAGE. (4102, 2792)\n",
      "Split on feature emp_length.4 years. (3768, 334)\n",
      "Split on feature emp_length.9 years. (3639, 129)\n",
      "Split on feature emp_length.2 years. (3123, 516)\n",
      "Split on feature grade.C. (0, 3123)\n",
      "Creating right node.\n",
      "Split on feature home_ownership.OWN. (458, 58)\n",
      "Early stopping condition 1 reached. Reached max depth limit.\n",
      "Early stopping condition 1 reached. Reached max depth limit.\n",
      "Split on feature home_ownership.OWN. (113, 16)\n",
      "Split on feature grade.C. (0, 113)\n",
      "Creating right node.\n",
      "Split on feature grade.C. (0, 16)\n",
      "Creating right node.\n",
      "Split on feature grade.C. (0, 334)\n",
      "Creating right node.\n",
      "Split on feature emp_length.2 years. (2562, 230)\n",
      "Split on feature emp_length.5 years. (2335, 227)\n",
      "Split on feature grade.C. (0, 2335)\n",
      "Creating right node.\n",
      "Split on feature grade.C. (0, 227)\n",
      "Creating right node.\n",
      "Split on feature grade.C. (0, 230)\n",
      "Creating right node.\n",
      "Split on feature grade.C. (8917, 0)\n",
      "Creating leaf node.\n",
      "Split on feature grade.B. (11, 17)\n",
      "Split on feature emp_length.6 years. (10, 1)\n",
      "Split on feature grade.C. (0, 10)\n",
      "Creating right node.\n",
      "Stopping condition 1 reached. All nodes are of the same type.\n",
      "Split on feature emp_length.1 year. (16, 1)\n",
      "Split on feature emp_length.3 years. (15, 1)\n",
      "Split on feature emp_length.4 years. (14, 1)\n",
      "Split on feature emp_length.< 1 year. (13, 1)\n",
      "Split on feature grade.C. (13, 0)\n",
      "Creating leaf node.\n",
      "Stopping condition 1 reached. All nodes are of the same type.\n",
      "Stopping condition 1 reached. All nodes are of the same type.\n",
      "Stopping condition 1 reached. All nodes are of the same type.\n",
      "Stopping condition 1 reached. All nodes are of the same type.\n",
      "Split on feature grade.B. (4799, 0)\n",
      "Creating leaf node.\n",
      "Split on feature grade.A. (96, 0)\n",
      "Creating leaf node.\n",
      "Split on feature grade.A. (702, 230)\n",
      "Split on feature home_ownership.OTHER. (701, 1)\n",
      "Split on feature grade.B. (317, 384)\n",
      "Split on feature grade.C. (1, 316)\n",
      "Stopping condition 1 reached. All nodes are of the same type.\n",
      "Split on feature grade.G. (316, 0)\n",
      "Creating leaf node.\n",
      "Split on feature grade.C. (384, 0)\n",
      "Creating leaf node.\n",
      "Stopping condition 1 reached. All nodes are of the same type.\n",
      "Split on feature grade.B. (230, 0)\n",
      "Creating leaf node.\n",
      "Split on feature emp_length.8 years. (347, 11)\n",
      "Split on feature grade.A. (347, 0)\n",
      "Creating leaf node.\n",
      "Split on feature home_ownership.OWN. (9, 2)\n",
      "Split on feature grade.A. (9, 0)\n",
      "Creating leaf node.\n",
      "Stopping condition 1 reached. All nodes are of the same type.\n",
      "Split on feature grade.A. (1276, 0)\n",
      "Creating leaf node.\n",
      "Split on feature grade.A. (4701, 0)\n",
      "Creating leaf node.\n"
     ]
    }
   ],
   "source": [
    "model_1 = decision_tree_create(train_data, features, 'safe_loans', max_depth = model_1_max_depth, min_node_size = 0, min_error_reduction=-1)\n",
    "model_2 = decision_tree_create(train_data, features, 'safe_loans', max_depth = model_2_max_depth, min_node_size = 0, min_error_reduction=-1)\n",
    "model_3 = decision_tree_create(train_data, features, 'safe_loans', max_depth = model_3_max_depth, min_node_size = 0, min_error_reduction=-1)"
   ]
  },
  {
   "cell_type": "code",
   "execution_count": 31,
   "metadata": {
    "collapsed": false
   },
   "outputs": [
    {
     "name": "stdout",
     "output_type": "stream",
     "text": [
      "Training data, classification error (model 1): 0.400037610144\n",
      "Training data, classification error (model 2): 0.381850419084\n",
      "Training data, classification error (model 3): 0.376182033097\n"
     ]
    }
   ],
   "source": [
    "print \"Training data, classification error (model 1):\", evaluate_classification_error(model_1, train_data)\n",
    "print \"Training data, classification error (model 2):\", evaluate_classification_error(model_2, train_data)\n",
    "print \"Training data, classification error (model 3):\", evaluate_classification_error(model_3, train_data)"
   ]
  },
  {
   "cell_type": "markdown",
   "metadata": {},
   "source": [
    "# Which tree has the smallest error on the validation data?"
   ]
  },
  {
   "cell_type": "code",
   "execution_count": 32,
   "metadata": {
    "collapsed": false
   },
   "outputs": [
    {
     "name": "stdout",
     "output_type": "stream",
     "text": [
      "Validation data, classification error (model 1): 0.398104265403\n",
      "Validation data, classification error (model 2): 0.383778543731\n",
      "Validation data, classification error (model 3): 0.37731581215\n"
     ]
    }
   ],
   "source": [
    "print \"Validation data, classification error (model 1):\", evaluate_classification_error(model_1, validation_data)\n",
    "print \"Validation data, classification error (model 2):\", evaluate_classification_error(model_2, validation_data)\n",
    "print \"Validation data, classification error (model 3):\", evaluate_classification_error(model_3, validation_data)"
   ]
  },
  {
   "cell_type": "markdown",
   "metadata": {},
   "source": [
    "Measuring the complexity of the tree"
   ]
  },
  {
   "cell_type": "code",
   "execution_count": 33,
   "metadata": {
    "collapsed": true
   },
   "outputs": [],
   "source": [
    "def count_leaves(tree):\n",
    "    if tree['is_leaf']:\n",
    "        return 1\n",
    "    return count_leaves(tree['left']) + count_leaves(tree['right'])"
   ]
  },
  {
   "cell_type": "markdown",
   "metadata": {},
   "source": [
    "Using the function count_leaves, compute the number of nodes in model_1, model_2, and model_3."
   ]
  },
  {
   "cell_type": "markdown",
   "metadata": {},
   "source": [
    "# Which tree has the largest complexity?"
   ]
  },
  {
   "cell_type": "code",
   "execution_count": 34,
   "metadata": {
    "collapsed": false
   },
   "outputs": [
    {
     "name": "stdout",
     "output_type": "stream",
     "text": [
      "model_1 complexity: 4\n",
      "model_2 complexity: 19\n",
      "model_3 complexity: 41\n"
     ]
    }
   ],
   "source": [
    "print \"model_1 complexity:\", count_leaves(model_1)\n",
    "print \"model_2 complexity:\", count_leaves(model_2)\n",
    "print \"model_3 complexity:\", count_leaves(model_3)"
   ]
  },
  {
   "cell_type": "markdown",
   "metadata": {},
   "source": [
    "Exploring the effect of min_error"
   ]
  },
  {
   "cell_type": "code",
   "execution_count": 35,
   "metadata": {
    "collapsed": true
   },
   "outputs": [],
   "source": [
    "model_4_min_error_reduction = -1 # (ignoring this early stopping condition)\n",
    "model_5_min_error_reduction = 0 # (just right)\n",
    "model_6_min_error_reduction = 5 # (too positive)"
   ]
  },
  {
   "cell_type": "code",
   "execution_count": 36,
   "metadata": {
    "collapsed": false
   },
   "outputs": [
    {
     "name": "stdout",
     "output_type": "stream",
     "text": [
      "Split on feature term. 36 months. (9223, 28001)\n",
      "Split on feature grade.A. (9122, 101)\n",
      "Split on feature grade.B. (8074, 1048)\n",
      "Split on feature grade.C. (5884, 2190)\n",
      "Split on feature grade.D. (3826, 2058)\n",
      "Split on feature grade.E. (1693, 2133)\n",
      "Early stopping condition 1 reached. Reached max depth limit.\n",
      "Early stopping condition 1 reached. Reached max depth limit.\n",
      "Split on feature grade.E. (2058, 0)\n",
      "Creating leaf node.\n",
      "Split on feature grade.D. (2190, 0)\n",
      "Creating leaf node.\n",
      "Split on feature emp_length.5 years. (969, 79)\n",
      "Split on feature grade.C. (969, 0)\n",
      "Creating leaf node.\n",
      "Split on feature home_ownership.MORTGAGE. (34, 45)\n",
      "Split on feature grade.C. (34, 0)\n",
      "Creating leaf node.\n",
      "Split on feature grade.C. (45, 0)\n",
      "Creating leaf node.\n",
      "Split on feature emp_length.n/a. (96, 5)\n",
      "Split on feature emp_length.< 1 year. (85, 11)\n",
      "Split on feature grade.B. (85, 0)\n",
      "Creating leaf node.\n",
      "Split on feature grade.B. (11, 0)\n",
      "Creating leaf node.\n",
      "Split on feature grade.B. (5, 0)\n",
      "Creating leaf node.\n",
      "Split on feature grade.D. (23300, 4701)\n",
      "Split on feature grade.E. (22024, 1276)\n",
      "Split on feature grade.F. (21666, 358)\n",
      "Split on feature emp_length.n/a. (20734, 932)\n",
      "Split on feature grade.G. (20638, 96)\n",
      "Early stopping condition 1 reached. Reached max depth limit.\n",
      "Early stopping condition 1 reached. Reached max depth limit.\n",
      "Split on feature grade.A. (702, 230)\n",
      "Early stopping condition 1 reached. Reached max depth limit.\n",
      "Early stopping condition 1 reached. Reached max depth limit.\n",
      "Split on feature emp_length.8 years. (347, 11)\n",
      "Split on feature grade.A. (347, 0)\n",
      "Creating leaf node.\n",
      "Split on feature home_ownership.OWN. (9, 2)\n",
      "Early stopping condition 1 reached. Reached max depth limit.\n",
      "Stopping condition 1 reached. All nodes are of the same type.\n",
      "Split on feature grade.A. (1276, 0)\n",
      "Creating leaf node.\n",
      "Split on feature grade.A. (4701, 0)\n",
      "Creating leaf node.\n",
      "Split on feature term. 36 months. (9223, 28001)\n",
      "Split on feature grade.A. (9122, 101)\n",
      "Early stopping condition 3 reached. Minimum error reduction.\n",
      "Split on feature emp_length.n/a. (96, 5)\n",
      "Split on feature emp_length.< 1 year. (85, 11)\n",
      "Early stopping condition 3 reached. Minimum error reduction.\n",
      "Early stopping condition 3 reached. Minimum error reduction.\n",
      "Early stopping condition 3 reached. Minimum error reduction.\n",
      "Split on feature grade.D. (23300, 4701)\n",
      "Split on feature grade.E. (22024, 1276)\n",
      "Split on feature grade.F. (21666, 358)\n",
      "Split on feature emp_length.n/a. (20734, 932)\n",
      "Split on feature grade.G. (20638, 96)\n",
      "Early stopping condition 1 reached. Reached max depth limit.\n",
      "Early stopping condition 1 reached. Reached max depth limit.\n",
      "Split on feature grade.A. (702, 230)\n",
      "Early stopping condition 1 reached. Reached max depth limit.\n",
      "Early stopping condition 1 reached. Reached max depth limit.\n",
      "Split on feature emp_length.8 years. (347, 11)\n",
      "Early stopping condition 3 reached. Minimum error reduction.\n",
      "Split on feature home_ownership.OWN. (9, 2)\n",
      "Early stopping condition 1 reached. Reached max depth limit.\n",
      "Stopping condition 1 reached. All nodes are of the same type.\n",
      "Early stopping condition 3 reached. Minimum error reduction.\n",
      "Early stopping condition 3 reached. Minimum error reduction.\n",
      "Early stopping condition 3 reached. Minimum error reduction.\n"
     ]
    }
   ],
   "source": [
    "model_4 = decision_tree_create(train_data, features, 'safe_loans', max_depth = 6, min_node_size = 0, min_error_reduction=model_4_min_error_reduction)\n",
    "model_5 = decision_tree_create(train_data, features, 'safe_loans', max_depth = 6, min_node_size = 0, min_error_reduction=model_5_min_error_reduction)\n",
    "model_6 = decision_tree_create(train_data, features, 'safe_loans', max_depth = 6, min_node_size = 0, min_error_reduction=model_6_min_error_reduction)"
   ]
  },
  {
   "cell_type": "code",
   "execution_count": 37,
   "metadata": {
    "collapsed": false
   },
   "outputs": [
    {
     "name": "stdout",
     "output_type": "stream",
     "text": [
      "Validation data, classification error (model 4): 0.383778543731\n",
      "Validation data, classification error (model 5): 0.383778543731\n",
      "Validation data, classification error (model 6): 0.503446790177\n"
     ]
    }
   ],
   "source": [
    "print \"Validation data, classification error (model 4):\", evaluate_classification_error(model_4, validation_data)\n",
    "print \"Validation data, classification error (model 5):\", evaluate_classification_error(model_5, validation_data)\n",
    "print \"Validation data, classification error (model 6):\", evaluate_classification_error(model_6, validation_data)"
   ]
  },
  {
   "cell_type": "markdown",
   "metadata": {},
   "source": [
    "# Using the complexity definition above, which model (model_4, model_5, or model_6) has the largest complexity? Did this match your expectation?"
   ]
  },
  {
   "cell_type": "code",
   "execution_count": 38,
   "metadata": {
    "collapsed": false
   },
   "outputs": [
    {
     "name": "stdout",
     "output_type": "stream",
     "text": [
      "model_4 complexity: 19\n",
      "model_5 complexity: 13\n",
      "model_6 complexity: 1\n"
     ]
    }
   ],
   "source": [
    "print \"model_4 complexity:\", count_leaves(model_4)\n",
    "print \"model_5 complexity:\", count_leaves(model_5)\n",
    "print \"model_6 complexity:\", count_leaves(model_6)"
   ]
  },
  {
   "cell_type": "markdown",
   "metadata": {},
   "source": [
    "Exploring the effect of min_node_size"
   ]
  },
  {
   "cell_type": "code",
   "execution_count": 39,
   "metadata": {
    "collapsed": true
   },
   "outputs": [],
   "source": [
    "model_7_min_node_size = 0 # (too small)\n",
    "model_8_min_node_size = 2000 # (just right)\n",
    "model_9_min_node_size = 50000 # (too large)"
   ]
  },
  {
   "cell_type": "code",
   "execution_count": 40,
   "metadata": {
    "collapsed": false
   },
   "outputs": [
    {
     "name": "stdout",
     "output_type": "stream",
     "text": [
      "Split on feature term. 36 months. (9223, 28001)\n",
      "Split on feature grade.A. (9122, 101)\n",
      "Split on feature grade.B. (8074, 1048)\n",
      "Split on feature grade.C. (5884, 2190)\n",
      "Split on feature grade.D. (3826, 2058)\n",
      "Split on feature grade.E. (1693, 2133)\n",
      "Early stopping condition 1 reached. Reached max depth limit.\n",
      "Early stopping condition 1 reached. Reached max depth limit.\n",
      "Split on feature grade.E. (2058, 0)\n",
      "Creating leaf node.\n",
      "Split on feature grade.D. (2190, 0)\n",
      "Creating leaf node.\n",
      "Split on feature emp_length.5 years. (969, 79)\n",
      "Split on feature grade.C. (969, 0)\n",
      "Creating leaf node.\n",
      "Split on feature home_ownership.MORTGAGE. (34, 45)\n",
      "Split on feature grade.C. (34, 0)\n",
      "Creating leaf node.\n",
      "Split on feature grade.C. (45, 0)\n",
      "Creating leaf node.\n",
      "Split on feature emp_length.n/a. (96, 5)\n",
      "Split on feature emp_length.< 1 year. (85, 11)\n",
      "Split on feature grade.B. (85, 0)\n",
      "Creating leaf node.\n",
      "Split on feature grade.B. (11, 0)\n",
      "Creating leaf node.\n",
      "Split on feature grade.B. (5, 0)\n",
      "Creating leaf node.\n",
      "Split on feature grade.D. (23300, 4701)\n",
      "Split on feature grade.E. (22024, 1276)\n",
      "Split on feature grade.F. (21666, 358)\n",
      "Split on feature emp_length.n/a. (20734, 932)\n",
      "Split on feature grade.G. (20638, 96)\n",
      "Early stopping condition 1 reached. Reached max depth limit.\n",
      "Early stopping condition 1 reached. Reached max depth limit.\n",
      "Split on feature grade.A. (702, 230)\n",
      "Early stopping condition 1 reached. Reached max depth limit.\n",
      "Early stopping condition 1 reached. Reached max depth limit.\n",
      "Split on feature emp_length.8 years. (347, 11)\n",
      "Split on feature grade.A. (347, 0)\n",
      "Creating leaf node.\n",
      "Split on feature home_ownership.OWN. (9, 2)\n",
      "Early stopping condition 1 reached. Reached max depth limit.\n",
      "Stopping condition 1 reached. All nodes are of the same type.\n",
      "Split on feature grade.A. (1276, 0)\n",
      "Creating leaf node.\n",
      "Split on feature grade.A. (4701, 0)\n",
      "Creating leaf node.\n",
      "Split on feature term. 36 months. (9223, 28001)\n",
      "Split on feature grade.A. (9122, 101)\n",
      "Split on feature grade.B. (8074, 1048)\n",
      "Split on feature grade.C. (5884, 2190)\n",
      "Split on feature grade.D. (3826, 2058)\n",
      "Split on feature grade.E. (1693, 2133)\n",
      "Early stopping condition 1 reached. Reached max depth limit.\n",
      "Early stopping condition 1 reached. Reached max depth limit.\n",
      "Split on feature grade.E. (2058, 0)\n",
      "Creating leaf node.\n",
      "Split on feature grade.D. (2190, 0)\n",
      "Creating leaf node.\n",
      "Early stopping condition 2 reached. Reached the minimum node size.\n",
      "Early stopping condition 2 reached. Reached the minimum node size.\n",
      "Split on feature grade.D. (23300, 4701)\n",
      "Split on feature grade.E. (22024, 1276)\n",
      "Split on feature grade.F. (21666, 358)\n",
      "Split on feature emp_length.n/a. (20734, 932)\n",
      "Split on feature grade.G. (20638, 96)\n",
      "Early stopping condition 1 reached. Reached max depth limit.\n",
      "Early stopping condition 1 reached. Reached max depth limit.\n",
      "Early stopping condition 2 reached. Reached the minimum node size.\n",
      "Early stopping condition 2 reached. Reached the minimum node size.\n",
      "Early stopping condition 2 reached. Reached the minimum node size.\n",
      "Split on feature grade.A. (4701, 0)\n",
      "Creating leaf node.\n",
      "Early stopping condition 2 reached. Reached the minimum node size.\n"
     ]
    }
   ],
   "source": [
    "model_7 = decision_tree_create(train_data, features, 'safe_loans', max_depth = 6, min_node_size = model_7_min_node_size, min_error_reduction=-1)\n",
    "model_8 = decision_tree_create(train_data, features, 'safe_loans', max_depth = 6, min_node_size = model_8_min_node_size, min_error_reduction=-1)\n",
    "model_9 = decision_tree_create(train_data, features, 'safe_loans', max_depth = 6, min_node_size = model_9_min_node_size, min_error_reduction=-1)"
   ]
  },
  {
   "cell_type": "markdown",
   "metadata": {},
   "source": [
    "# Using the results obtained in this section, which model (model_7, model_8, or model_9) would you choose to use?"
   ]
  },
  {
   "cell_type": "code",
   "execution_count": 41,
   "metadata": {
    "collapsed": false
   },
   "outputs": [
    {
     "name": "stdout",
     "output_type": "stream",
     "text": [
      "Validation data, classification error (model 7): 0.383778543731\n",
      "Validation data, classification error (model 8): 0.384532529082\n",
      "Validation data, classification error (model 9): 0.503446790177\n"
     ]
    }
   ],
   "source": [
    "print \"Validation data, classification error (model 7):\", evaluate_classification_error(model_7, validation_data)\n",
    "print \"Validation data, classification error (model 8):\", evaluate_classification_error(model_8, validation_data)\n",
    "print \"Validation data, classification error (model 9):\", evaluate_classification_error(model_9, validation_data)"
   ]
  },
  {
   "cell_type": "code",
   "execution_count": 42,
   "metadata": {
    "collapsed": false
   },
   "outputs": [
    {
     "name": "stdout",
     "output_type": "stream",
     "text": [
      "model_7 complexity: 19\n",
      "model_8 complexity: 12\n",
      "model_9 complexity: 1\n"
     ]
    }
   ],
   "source": [
    "print \"model_7 complexity:\", count_leaves(model_7)\n",
    "print \"model_8 complexity:\", count_leaves(model_8)\n",
    "print \"model_9 complexity:\", count_leaves(model_9)"
   ]
  },
  {
   "cell_type": "code",
   "execution_count": null,
   "metadata": {
    "collapsed": true
   },
   "outputs": [],
   "source": []
  }
 ],
 "metadata": {
  "kernelspec": {
   "display_name": "Python 2",
   "language": "python",
   "name": "python2"
  },
  "language_info": {
   "codemirror_mode": {
    "name": "ipython",
    "version": 2
   },
   "file_extension": ".py",
   "mimetype": "text/x-python",
   "name": "python",
   "nbconvert_exporter": "python",
   "pygments_lexer": "ipython2",
   "version": "2.7.11"
  }
 },
 "nbformat": 4,
 "nbformat_minor": 0
}
